{
  "nbformat": 4,
  "nbformat_minor": 0,
  "metadata": {
    "colab": {
      "provenance": []
    },
    "kernelspec": {
      "name": "python3",
      "display_name": "Python 3"
    },
    "language_info": {
      "name": "python"
    }
  },
  "cells": [
    {
      "cell_type": "markdown",
      "source": [
        "## Trying multi-class classification (OvR --> One vs. Rest)"
      ],
      "metadata": {
        "id": "sLKwerdsGK2F"
      }
    },
    {
      "cell_type": "code",
      "source": [
        "#Step 1: imports\n",
        "import pandas as pd\n",
        "import seaborn as sns\n",
        "import numpy as np\n",
        "from sklearn.pipeline import Pipeline\n",
        "from sklearn.preprocessing import StandardScaler\n",
        "from sklearn.model_selection import train_test_split\n",
        "from sklearn.linear_model import LogisticRegression\n",
        "from sklearn.preprocessing import label_binarize\n",
        "from sklearn.multiclass import OneVsRestClassifier\n",
        "from scipy import interp\n",
        "from sklearn.model_selection import cross_val_score\n",
        "from sklearn.metrics import (accuracy_score, precision_score, recall_score,\n",
        "                             f1_score, confusion_matrix, roc_curve, precision_recall_curve, auc, roc_auc_score, classification_report)\n",
        "import matplotlib.pyplot as plt"
      ],
      "metadata": {
        "id": "RzSDxDLMGORv"
      },
      "execution_count": null,
      "outputs": []
    },
    {
      "cell_type": "code",
      "source": [
        "#Step 2: Load dataset\n",
        "df = pd.read_csv('tutoring_data.csv')\n",
        "df.head()"
      ],
      "metadata": {
        "colab": {
          "base_uri": "https://localhost:8080/",
          "height": 516
        },
        "id": "H_C3BHihHOEQ",
        "outputId": "5f9e4cc5-11ad-434b-82f2-b99f2a0a0c9c"
      },
      "execution_count": null,
      "outputs": [
        {
          "output_type": "execute_result",
          "data": {
            "text/plain": [
              "                                User_ID  Age_in_Months  Gender  \\\n",
              "0  654b113d-4ce4-41a9-a8f4-7f1419419230            156   Other   \n",
              "1  2a044973-1d29-4b2f-83f6-c488290140bb            202  Female   \n",
              "2  d84bb18b-bd77-4be9-98bb-a0993b95af75            173   Other   \n",
              "3  411cebf6-18cc-4846-89c7-f3f7bcaede01            199  Female   \n",
              "4  e4ada708-10b6-4fcd-ac08-a83152658751            148  Female   \n",
              "\n",
              "                 Location       Grade  Logins_per_Month  \\\n",
              "0        Smithchester, VA   8th Grade                 6   \n",
              "1            Beckside, FL  10th Grade                 6   \n",
              "2  New Deborahborough, SD   9th Grade                 7   \n",
              "3      West Stephanie, KY  12th Grade                17   \n",
              "4    West Roberthaven, LA   7th Grade                10   \n",
              "\n",
              "   Days_Completed_Activity  Exercises_Started  Total_Time_Spent_in_Minutes  \\\n",
              "0                        5           9.784359                   107.889381   \n",
              "1                        6           9.000000                   198.865171   \n",
              "2                        4          12.159345                   232.639784   \n",
              "3                       17          28.000000                   506.644691   \n",
              "4                        8          15.458939                   305.275706   \n",
              "\n",
              "        Course_Name  ... Recommendation_Likelihood  Exercises_Completed  \\\n",
              "0         Chemistry  ...                         3                    7   \n",
              "1   Web Development  ...                         4                    9   \n",
              "2          Geometry  ...                         4                   10   \n",
              "3      Pre-Calculus  ...                         3                   28   \n",
              "4  Java Programming  ...                         4                   17   \n",
              "\n",
              "   Points_Earned  Subscription_Tier  Subscription_Cost  \\\n",
              "0    1910.292936               Free               0.00   \n",
              "1    1698.767255               Free               0.00   \n",
              "2    1860.295769            Premium               9.99   \n",
              "3    4465.824908              Basic               5.99   \n",
              "4    2499.211664            Premium               9.99   \n",
              "\n",
              "   Subscription_Length_in_Months  Renewal_Status Tutoring  Referrals  \\\n",
              "0                              4             Yes      Yes          0   \n",
              "1                              1             Yes       No          0   \n",
              "2                             13             Yes       No          0   \n",
              "3                             11             Yes       No          1   \n",
              "4                             12             Yes       No          0   \n",
              "\n",
              "   Academic_Grade  \n",
              "0               D  \n",
              "1               F  \n",
              "2               D  \n",
              "3               F  \n",
              "4               F  \n",
              "\n",
              "[5 rows x 24 columns]"
            ],
            "text/html": [
              "\n",
              "  <div id=\"df-26720cf1-11d6-4c17-9bb8-92507103082a\" class=\"colab-df-container\">\n",
              "    <div>\n",
              "<style scoped>\n",
              "    .dataframe tbody tr th:only-of-type {\n",
              "        vertical-align: middle;\n",
              "    }\n",
              "\n",
              "    .dataframe tbody tr th {\n",
              "        vertical-align: top;\n",
              "    }\n",
              "\n",
              "    .dataframe thead th {\n",
              "        text-align: right;\n",
              "    }\n",
              "</style>\n",
              "<table border=\"1\" class=\"dataframe\">\n",
              "  <thead>\n",
              "    <tr style=\"text-align: right;\">\n",
              "      <th></th>\n",
              "      <th>User_ID</th>\n",
              "      <th>Age_in_Months</th>\n",
              "      <th>Gender</th>\n",
              "      <th>Location</th>\n",
              "      <th>Grade</th>\n",
              "      <th>Logins_per_Month</th>\n",
              "      <th>Days_Completed_Activity</th>\n",
              "      <th>Exercises_Started</th>\n",
              "      <th>Total_Time_Spent_in_Minutes</th>\n",
              "      <th>Course_Name</th>\n",
              "      <th>...</th>\n",
              "      <th>Recommendation_Likelihood</th>\n",
              "      <th>Exercises_Completed</th>\n",
              "      <th>Points_Earned</th>\n",
              "      <th>Subscription_Tier</th>\n",
              "      <th>Subscription_Cost</th>\n",
              "      <th>Subscription_Length_in_Months</th>\n",
              "      <th>Renewal_Status</th>\n",
              "      <th>Tutoring</th>\n",
              "      <th>Referrals</th>\n",
              "      <th>Academic_Grade</th>\n",
              "    </tr>\n",
              "  </thead>\n",
              "  <tbody>\n",
              "    <tr>\n",
              "      <th>0</th>\n",
              "      <td>654b113d-4ce4-41a9-a8f4-7f1419419230</td>\n",
              "      <td>156</td>\n",
              "      <td>Other</td>\n",
              "      <td>Smithchester, VA</td>\n",
              "      <td>8th Grade</td>\n",
              "      <td>6</td>\n",
              "      <td>5</td>\n",
              "      <td>9.784359</td>\n",
              "      <td>107.889381</td>\n",
              "      <td>Chemistry</td>\n",
              "      <td>...</td>\n",
              "      <td>3</td>\n",
              "      <td>7</td>\n",
              "      <td>1910.292936</td>\n",
              "      <td>Free</td>\n",
              "      <td>0.00</td>\n",
              "      <td>4</td>\n",
              "      <td>Yes</td>\n",
              "      <td>Yes</td>\n",
              "      <td>0</td>\n",
              "      <td>D</td>\n",
              "    </tr>\n",
              "    <tr>\n",
              "      <th>1</th>\n",
              "      <td>2a044973-1d29-4b2f-83f6-c488290140bb</td>\n",
              "      <td>202</td>\n",
              "      <td>Female</td>\n",
              "      <td>Beckside, FL</td>\n",
              "      <td>10th Grade</td>\n",
              "      <td>6</td>\n",
              "      <td>6</td>\n",
              "      <td>9.000000</td>\n",
              "      <td>198.865171</td>\n",
              "      <td>Web Development</td>\n",
              "      <td>...</td>\n",
              "      <td>4</td>\n",
              "      <td>9</td>\n",
              "      <td>1698.767255</td>\n",
              "      <td>Free</td>\n",
              "      <td>0.00</td>\n",
              "      <td>1</td>\n",
              "      <td>Yes</td>\n",
              "      <td>No</td>\n",
              "      <td>0</td>\n",
              "      <td>F</td>\n",
              "    </tr>\n",
              "    <tr>\n",
              "      <th>2</th>\n",
              "      <td>d84bb18b-bd77-4be9-98bb-a0993b95af75</td>\n",
              "      <td>173</td>\n",
              "      <td>Other</td>\n",
              "      <td>New Deborahborough, SD</td>\n",
              "      <td>9th Grade</td>\n",
              "      <td>7</td>\n",
              "      <td>4</td>\n",
              "      <td>12.159345</td>\n",
              "      <td>232.639784</td>\n",
              "      <td>Geometry</td>\n",
              "      <td>...</td>\n",
              "      <td>4</td>\n",
              "      <td>10</td>\n",
              "      <td>1860.295769</td>\n",
              "      <td>Premium</td>\n",
              "      <td>9.99</td>\n",
              "      <td>13</td>\n",
              "      <td>Yes</td>\n",
              "      <td>No</td>\n",
              "      <td>0</td>\n",
              "      <td>D</td>\n",
              "    </tr>\n",
              "    <tr>\n",
              "      <th>3</th>\n",
              "      <td>411cebf6-18cc-4846-89c7-f3f7bcaede01</td>\n",
              "      <td>199</td>\n",
              "      <td>Female</td>\n",
              "      <td>West Stephanie, KY</td>\n",
              "      <td>12th Grade</td>\n",
              "      <td>17</td>\n",
              "      <td>17</td>\n",
              "      <td>28.000000</td>\n",
              "      <td>506.644691</td>\n",
              "      <td>Pre-Calculus</td>\n",
              "      <td>...</td>\n",
              "      <td>3</td>\n",
              "      <td>28</td>\n",
              "      <td>4465.824908</td>\n",
              "      <td>Basic</td>\n",
              "      <td>5.99</td>\n",
              "      <td>11</td>\n",
              "      <td>Yes</td>\n",
              "      <td>No</td>\n",
              "      <td>1</td>\n",
              "      <td>F</td>\n",
              "    </tr>\n",
              "    <tr>\n",
              "      <th>4</th>\n",
              "      <td>e4ada708-10b6-4fcd-ac08-a83152658751</td>\n",
              "      <td>148</td>\n",
              "      <td>Female</td>\n",
              "      <td>West Roberthaven, LA</td>\n",
              "      <td>7th Grade</td>\n",
              "      <td>10</td>\n",
              "      <td>8</td>\n",
              "      <td>15.458939</td>\n",
              "      <td>305.275706</td>\n",
              "      <td>Java Programming</td>\n",
              "      <td>...</td>\n",
              "      <td>4</td>\n",
              "      <td>17</td>\n",
              "      <td>2499.211664</td>\n",
              "      <td>Premium</td>\n",
              "      <td>9.99</td>\n",
              "      <td>12</td>\n",
              "      <td>Yes</td>\n",
              "      <td>No</td>\n",
              "      <td>0</td>\n",
              "      <td>F</td>\n",
              "    </tr>\n",
              "  </tbody>\n",
              "</table>\n",
              "<p>5 rows × 24 columns</p>\n",
              "</div>\n",
              "    <div class=\"colab-df-buttons\">\n",
              "\n",
              "  <div class=\"colab-df-container\">\n",
              "    <button class=\"colab-df-convert\" onclick=\"convertToInteractive('df-26720cf1-11d6-4c17-9bb8-92507103082a')\"\n",
              "            title=\"Convert this dataframe to an interactive table.\"\n",
              "            style=\"display:none;\">\n",
              "\n",
              "  <svg xmlns=\"http://www.w3.org/2000/svg\" height=\"24px\" viewBox=\"0 -960 960 960\">\n",
              "    <path d=\"M120-120v-720h720v720H120Zm60-500h600v-160H180v160Zm220 220h160v-160H400v160Zm0 220h160v-160H400v160ZM180-400h160v-160H180v160Zm440 0h160v-160H620v160ZM180-180h160v-160H180v160Zm440 0h160v-160H620v160Z\"/>\n",
              "  </svg>\n",
              "    </button>\n",
              "\n",
              "  <style>\n",
              "    .colab-df-container {\n",
              "      display:flex;\n",
              "      gap: 12px;\n",
              "    }\n",
              "\n",
              "    .colab-df-convert {\n",
              "      background-color: #E8F0FE;\n",
              "      border: none;\n",
              "      border-radius: 50%;\n",
              "      cursor: pointer;\n",
              "      display: none;\n",
              "      fill: #1967D2;\n",
              "      height: 32px;\n",
              "      padding: 0 0 0 0;\n",
              "      width: 32px;\n",
              "    }\n",
              "\n",
              "    .colab-df-convert:hover {\n",
              "      background-color: #E2EBFA;\n",
              "      box-shadow: 0px 1px 2px rgba(60, 64, 67, 0.3), 0px 1px 3px 1px rgba(60, 64, 67, 0.15);\n",
              "      fill: #174EA6;\n",
              "    }\n",
              "\n",
              "    .colab-df-buttons div {\n",
              "      margin-bottom: 4px;\n",
              "    }\n",
              "\n",
              "    [theme=dark] .colab-df-convert {\n",
              "      background-color: #3B4455;\n",
              "      fill: #D2E3FC;\n",
              "    }\n",
              "\n",
              "    [theme=dark] .colab-df-convert:hover {\n",
              "      background-color: #434B5C;\n",
              "      box-shadow: 0px 1px 3px 1px rgba(0, 0, 0, 0.15);\n",
              "      filter: drop-shadow(0px 1px 2px rgba(0, 0, 0, 0.3));\n",
              "      fill: #FFFFFF;\n",
              "    }\n",
              "  </style>\n",
              "\n",
              "    <script>\n",
              "      const buttonEl =\n",
              "        document.querySelector('#df-26720cf1-11d6-4c17-9bb8-92507103082a button.colab-df-convert');\n",
              "      buttonEl.style.display =\n",
              "        google.colab.kernel.accessAllowed ? 'block' : 'none';\n",
              "\n",
              "      async function convertToInteractive(key) {\n",
              "        const element = document.querySelector('#df-26720cf1-11d6-4c17-9bb8-92507103082a');\n",
              "        const dataTable =\n",
              "          await google.colab.kernel.invokeFunction('convertToInteractive',\n",
              "                                                    [key], {});\n",
              "        if (!dataTable) return;\n",
              "\n",
              "        const docLinkHtml = 'Like what you see? Visit the ' +\n",
              "          '<a target=\"_blank\" href=https://colab.research.google.com/notebooks/data_table.ipynb>data table notebook</a>'\n",
              "          + ' to learn more about interactive tables.';\n",
              "        element.innerHTML = '';\n",
              "        dataTable['output_type'] = 'display_data';\n",
              "        await google.colab.output.renderOutput(dataTable, element);\n",
              "        const docLink = document.createElement('div');\n",
              "        docLink.innerHTML = docLinkHtml;\n",
              "        element.appendChild(docLink);\n",
              "      }\n",
              "    </script>\n",
              "  </div>\n",
              "\n",
              "\n",
              "<div id=\"df-c2e44dcc-ef11-43e8-abcf-068bacca80ca\">\n",
              "  <button class=\"colab-df-quickchart\" onclick=\"quickchart('df-c2e44dcc-ef11-43e8-abcf-068bacca80ca')\"\n",
              "            title=\"Suggest charts\"\n",
              "            style=\"display:none;\">\n",
              "\n",
              "<svg xmlns=\"http://www.w3.org/2000/svg\" height=\"24px\"viewBox=\"0 0 24 24\"\n",
              "     width=\"24px\">\n",
              "    <g>\n",
              "        <path d=\"M19 3H5c-1.1 0-2 .9-2 2v14c0 1.1.9 2 2 2h14c1.1 0 2-.9 2-2V5c0-1.1-.9-2-2-2zM9 17H7v-7h2v7zm4 0h-2V7h2v10zm4 0h-2v-4h2v4z\"/>\n",
              "    </g>\n",
              "</svg>\n",
              "  </button>\n",
              "\n",
              "<style>\n",
              "  .colab-df-quickchart {\n",
              "      --bg-color: #E8F0FE;\n",
              "      --fill-color: #1967D2;\n",
              "      --hover-bg-color: #E2EBFA;\n",
              "      --hover-fill-color: #174EA6;\n",
              "      --disabled-fill-color: #AAA;\n",
              "      --disabled-bg-color: #DDD;\n",
              "  }\n",
              "\n",
              "  [theme=dark] .colab-df-quickchart {\n",
              "      --bg-color: #3B4455;\n",
              "      --fill-color: #D2E3FC;\n",
              "      --hover-bg-color: #434B5C;\n",
              "      --hover-fill-color: #FFFFFF;\n",
              "      --disabled-bg-color: #3B4455;\n",
              "      --disabled-fill-color: #666;\n",
              "  }\n",
              "\n",
              "  .colab-df-quickchart {\n",
              "    background-color: var(--bg-color);\n",
              "    border: none;\n",
              "    border-radius: 50%;\n",
              "    cursor: pointer;\n",
              "    display: none;\n",
              "    fill: var(--fill-color);\n",
              "    height: 32px;\n",
              "    padding: 0;\n",
              "    width: 32px;\n",
              "  }\n",
              "\n",
              "  .colab-df-quickchart:hover {\n",
              "    background-color: var(--hover-bg-color);\n",
              "    box-shadow: 0 1px 2px rgba(60, 64, 67, 0.3), 0 1px 3px 1px rgba(60, 64, 67, 0.15);\n",
              "    fill: var(--button-hover-fill-color);\n",
              "  }\n",
              "\n",
              "  .colab-df-quickchart-complete:disabled,\n",
              "  .colab-df-quickchart-complete:disabled:hover {\n",
              "    background-color: var(--disabled-bg-color);\n",
              "    fill: var(--disabled-fill-color);\n",
              "    box-shadow: none;\n",
              "  }\n",
              "\n",
              "  .colab-df-spinner {\n",
              "    border: 2px solid var(--fill-color);\n",
              "    border-color: transparent;\n",
              "    border-bottom-color: var(--fill-color);\n",
              "    animation:\n",
              "      spin 1s steps(1) infinite;\n",
              "  }\n",
              "\n",
              "  @keyframes spin {\n",
              "    0% {\n",
              "      border-color: transparent;\n",
              "      border-bottom-color: var(--fill-color);\n",
              "      border-left-color: var(--fill-color);\n",
              "    }\n",
              "    20% {\n",
              "      border-color: transparent;\n",
              "      border-left-color: var(--fill-color);\n",
              "      border-top-color: var(--fill-color);\n",
              "    }\n",
              "    30% {\n",
              "      border-color: transparent;\n",
              "      border-left-color: var(--fill-color);\n",
              "      border-top-color: var(--fill-color);\n",
              "      border-right-color: var(--fill-color);\n",
              "    }\n",
              "    40% {\n",
              "      border-color: transparent;\n",
              "      border-right-color: var(--fill-color);\n",
              "      border-top-color: var(--fill-color);\n",
              "    }\n",
              "    60% {\n",
              "      border-color: transparent;\n",
              "      border-right-color: var(--fill-color);\n",
              "    }\n",
              "    80% {\n",
              "      border-color: transparent;\n",
              "      border-right-color: var(--fill-color);\n",
              "      border-bottom-color: var(--fill-color);\n",
              "    }\n",
              "    90% {\n",
              "      border-color: transparent;\n",
              "      border-bottom-color: var(--fill-color);\n",
              "    }\n",
              "  }\n",
              "</style>\n",
              "\n",
              "  <script>\n",
              "    async function quickchart(key) {\n",
              "      const quickchartButtonEl =\n",
              "        document.querySelector('#' + key + ' button');\n",
              "      quickchartButtonEl.disabled = true;  // To prevent multiple clicks.\n",
              "      quickchartButtonEl.classList.add('colab-df-spinner');\n",
              "      try {\n",
              "        const charts = await google.colab.kernel.invokeFunction(\n",
              "            'suggestCharts', [key], {});\n",
              "      } catch (error) {\n",
              "        console.error('Error during call to suggestCharts:', error);\n",
              "      }\n",
              "      quickchartButtonEl.classList.remove('colab-df-spinner');\n",
              "      quickchartButtonEl.classList.add('colab-df-quickchart-complete');\n",
              "    }\n",
              "    (() => {\n",
              "      let quickchartButtonEl =\n",
              "        document.querySelector('#df-c2e44dcc-ef11-43e8-abcf-068bacca80ca button');\n",
              "      quickchartButtonEl.style.display =\n",
              "        google.colab.kernel.accessAllowed ? 'block' : 'none';\n",
              "    })();\n",
              "  </script>\n",
              "</div>\n",
              "\n",
              "    </div>\n",
              "  </div>\n"
            ],
            "application/vnd.google.colaboratory.intrinsic+json": {
              "type": "dataframe",
              "variable_name": "df"
            }
          },
          "metadata": {},
          "execution_count": 2
        }
      ]
    },
    {
      "cell_type": "code",
      "source": [
        "#Step 3: Training and test set:\n",
        "\n",
        "#1st: Extract integer from grade.\n",
        "df['Grade'] = df['Grade'].str.extract('(\\d+)') #To assign the extracted grades to replace the original Grade column.\n",
        "#df['Grade'].str.extract('(\\d+)') #By itself doesn't work since returns a dataframe (just a column of row numbers and a column of the extracted grades)\n",
        "\n",
        "df.head()\n",
        "#print(df) #Prints the addresses of the values in the table.\n",
        "\n",
        "#3rd: Det. x and y.\n",
        "x = df[['Age_in_Months', 'Grade', 'Points_Earned', 'Logins_per_Month']] #Prev. error: 1st: had 'Age_in_Months ' --> extra space before quote. 2nd: Need double brackets when selecting >1 col.\n",
        "y = df['Referrals']\n",
        "\n",
        "X_train, X_test, y_train, y_test = train_test_split(x, y, test_size=0.5, random_state=0)\n",
        "\n",
        "# Display the shapes of the resulting datasets to verify the split\n",
        "X_train.shape, X_test.shape, y_train.shape, y_test.shape\n",
        "\n",
        "##DON'T DO THE FOLLOWING SINCE EVERY TIME YOU RUN THE CELL, THE AGE IS DIVIDED **AGAIN** BY 12. SO, UNINTENTTIONALLY YOU MIGHT BE DECREASING THE AGE AGAIN AND AGAIN WITHOUT NOTICING --> SCARY!\n",
        "#2nd: Convert age in mths to years for easier readability:\n",
        "#df['Age_in_Months'] = df['Age_in_Months'].div(12)"
      ],
      "metadata": {
        "colab": {
          "base_uri": "https://localhost:8080/"
        },
        "id": "mIhzrqouTMAn",
        "outputId": "3bfc335e-dd75-4ef2-8ca3-3990648b1b38"
      },
      "execution_count": null,
      "outputs": [
        {
          "output_type": "execute_result",
          "data": {
            "text/plain": [
              "((7421, 4), (7422, 4), (7421,), (7422,))"
            ]
          },
          "metadata": {},
          "execution_count": 3
        }
      ]
    },
    {
      "cell_type": "code",
      "source": [
        "#Step 4: Create the Multi-class regression problem:\n",
        "\n",
        "#4.1 Need to normalize data, don't forget.\n",
        "modelName = Pipeline([\n",
        "    ('scale', StandardScaler()),\n",
        "    ('LogReg', OneVsRestClassifier(LogisticRegression())) #Did not use: LogisticRegression(multi_class='ovr') since\n",
        "                                                          # multiclass is discontinued in a future version of Python.\n",
        "    ])\n",
        "\n",
        "#Before cross-validation:\n",
        "modelName.fit(X_train, y_train)\n",
        "modelName_pred = modelName.predict(X_test)\n",
        "\n",
        "trainingAccuracyBeforeCV = accuracy_score(y_test, modelName_pred)\n",
        "print(\"Accuracy\", trainingAccuracyBeforeCV)\n",
        "trainingError = 1- trainingAccuracyBeforeCV\n",
        "print(\"Training errorBeforeCV\", trainingError)\n"
      ],
      "metadata": {
        "id": "eXRX11esLsTY",
        "colab": {
          "base_uri": "https://localhost:8080/"
        },
        "outputId": "3e7801d3-8f86-4b4a-9e7e-ca1b257c5791"
      },
      "execution_count": null,
      "outputs": [
        {
          "output_type": "stream",
          "name": "stdout",
          "text": [
            "Accuracy 0.7025060630557801\n",
            "Training errorBeforeCV 0.2974939369442199\n"
          ]
        }
      ]
    },
    {
      "cell_type": "markdown",
      "source": [
        "Pretty bad accuracy."
      ],
      "metadata": {
        "id": "_9PZeV-FcyER"
      }
    },
    {
      "cell_type": "code",
      "source": [
        "#Try having other parameters that might be important:\n",
        "x_2ndversion = df.drop(['Referrals'], axis=1)\n",
        "y_2ndversion = df['Referrals']\n",
        "X_train_2ndversion, X_test_2ndversion, y_train_2ndversion, y_test_2ndversion = train_test_split(x, y, test_size=0.5, random_state=0)\n",
        "\n",
        "# Display the shapes of the resulting datasets to verify the split\n",
        "X_train_2ndversion.shape, X_test_2ndversion.shape, y_train_2ndversion.shape, y_test_2ndversion.shape"
      ],
      "metadata": {
        "colab": {
          "base_uri": "https://localhost:8080/"
        },
        "id": "FRogmS1nfo49",
        "outputId": "c35adb03-fea8-42cd-e316-3ea6ee8f5763"
      },
      "execution_count": null,
      "outputs": [
        {
          "output_type": "execute_result",
          "data": {
            "text/plain": [
              "((7421, 4), (7422, 4), (7421, 3), (7422, 3))"
            ]
          },
          "metadata": {},
          "execution_count": 29
        }
      ]
    },
    {
      "cell_type": "code",
      "source": [
        "modelName_2ndversion = Pipeline([\n",
        "    ('scale', StandardScaler()),\n",
        "    ('LogReg', OneVsRestClassifier(LogisticRegression()))\n",
        "    ])\n",
        "\n",
        "#Before cross-validation:\n",
        "modelName_2ndversion.fit(X_train_2ndversion, y_train_2ndversion)\n",
        "modelName_pred_2ndversion = modelName_2ndversion.predict(X_test_2ndversion)\n",
        "trainingAccuracyBeforeCV_2ndversion = accuracy_score(y_test_2ndversion, modelName_pred_2ndversion)\n",
        "print(\"Accuracy\", trainingAccuracyBeforeCV_2ndversion)\n",
        "trainingError_2ndversion = 1- trainingAccuracyBeforeCV_2ndversion\n",
        "print(\"Training errorBeforeCV\", trainingError_2ndversion)"
      ],
      "metadata": {
        "colab": {
          "base_uri": "https://localhost:8080/"
        },
        "id": "voMwkw74gTbr",
        "outputId": "29658473-3b1d-4b20-bed7-b8f714ab52d3"
      },
      "execution_count": null,
      "outputs": [
        {
          "output_type": "stream",
          "name": "stdout",
          "text": [
            "Accuracy 0.7025060630557801\n",
            "Training errorBeforeCV 0.2974939369442199\n"
          ]
        }
      ]
    },
    {
      "cell_type": "code",
      "source": [
        "#Try having other parameters that might be important:\n",
        "x_3rdversion = df[['Points_Earned', 'Logins_per_Month', 'Total_Time_Spent_in_Minutes', 'Exercises_Completed']]\n",
        "y_3rdversion = df['Referrals']\n",
        "X_train_3rdversion, X_test_3rdversion, y_train_3rdversion, y_test_3rdversion = train_test_split(x, y, test_size=0.5, random_state=0)\n",
        "\n",
        "# Display the shapes of the resulting datasets to verify the split\n",
        "X_train_3rdversion.shape, X_test_3rdversion.shape, y_train_3rdversion.shape, y_test_3rdversion.shape"
      ],
      "metadata": {
        "colab": {
          "base_uri": "https://localhost:8080/"
        },
        "id": "hBdW5Hfcg8Md",
        "outputId": "02e42d0d-90b8-4344-b149-ce54fd679adc"
      },
      "execution_count": null,
      "outputs": [
        {
          "output_type": "execute_result",
          "data": {
            "text/plain": [
              "((7421, 4), (7422, 4), (7421,), (7422,))"
            ]
          },
          "metadata": {},
          "execution_count": 23
        }
      ]
    },
    {
      "cell_type": "code",
      "source": [
        "modelName_3rdversion = Pipeline([\n",
        "    ('scale', StandardScaler()),\n",
        "    ('LogReg', OneVsRestClassifier(LogisticRegression()))\n",
        "    ])\n",
        "\n",
        "#Before cross-validation:\n",
        "modelName_3rdversion.fit(X_train_3rdversion, y_train_3rdversion)\n",
        "modelName_pred_3rdversion = modelName_3rdversion.predict(X_test_3rdversion)\n",
        "trainingAccuracyBeforeCV_3rdversion = accuracy_score(y_test_3rdversion, modelName_pred_3rdversion)\n",
        "print(\"Accuracy\", trainingAccuracyBeforeCV_2ndversion)\n",
        "trainingError_3rdversion = 1- trainingAccuracyBeforeCV_3rdversion\n",
        "print(\"Training errorBeforeCV\", trainingError_3rdversion)"
      ],
      "metadata": {
        "colab": {
          "base_uri": "https://localhost:8080/"
        },
        "id": "7egrOYm5hINj",
        "outputId": "4fb7712a-aa9b-4f6e-aee5-154502673efc"
      },
      "execution_count": null,
      "outputs": [
        {
          "output_type": "stream",
          "name": "stdout",
          "text": [
            "Accuracy 0.7025060630557801\n",
            "Training errorBeforeCV 0.2974939369442199\n"
          ]
        }
      ]
    },
    {
      "cell_type": "markdown",
      "source": [
        "<br> <br>"
      ],
      "metadata": {
        "id": "kISPYThkjNH-"
      }
    },
    {
      "cell_type": "markdown",
      "source": [
        "Before doing forward selection, try printing the ROC curve:\n"
      ],
      "metadata": {
        "id": "b6Tri_FtjOd8"
      }
    },
    {
      "cell_type": "code",
      "source": [],
      "metadata": {
        "id": "z1Hl-muZfouS"
      },
      "execution_count": null,
      "outputs": []
    },
    {
      "cell_type": "markdown",
      "source": [],
      "metadata": {
        "id": "mH0-6fRwKcS4"
      }
    },
    {
      "cell_type": "markdown",
      "source": [
        "<br>\n",
        "<br> <br> <br>\n"
      ],
      "metadata": {
        "id": "VuJHZotSfpNa"
      }
    },
    {
      "cell_type": "code",
      "source": [
        "#Check the AUC of the ROC curve.\n",
        "\n",
        "#4.2 Now predict using our model:\n",
        "modelName_pred = modelName.predict(X_test)\n",
        "print(\"Accuracy\", accuracy_score(y_test, modelName_pred))\n",
        "\n",
        "# Recompute predicted probabilities and predictions if they aren't available\n",
        "y_pred_prob = log_reg.predict_proba(X_test_amount)[:, 1]  # Get p(Outcome=1)\n",
        "\n",
        "# Set a threshold of 0.5 for classifying positive labels\n",
        "threshold = 0.5\n",
        "y_pred_label = (y_pred_prob >= threshold).astype(int)"
      ],
      "metadata": {
        "id": "bzFtJeWsczxS"
      },
      "execution_count": null,
      "outputs": []
    },
    {
      "cell_type": "code",
      "source": [
        "#4.2 Cross-validation (during training, before even testing)\n",
        "\n",
        "#To determine ideal CV K folds within reasonable limits (typical is 5 to 10)\n",
        "CVidealK = [5, 7, 10, 15]\n",
        "CVresults = {}\n",
        "for i in CVidealK:\n",
        "  modelNameCV = cross_val_score(modelName, X_train, y_train, cv=i) #NOT cv=CVidealK[i]\n",
        "  CVresults[i] = modelNameCV.mean()\n",
        "  maxCVAccuracy = max(CVresults.values())\n",
        "\n",
        "print(CVresults)\n",
        "print(\"maxCVAccuracy\", maxCVAccuracy)\n",
        "\n",
        "#Now use the ideal CV # of folds:\n",
        "modelNamepredCV = cross_val_score(modelName, X_train, y_train, cv=15)\n",
        "print(f\"Mean cross-validation score: {modelNamepredCV.mean()}\")\n",
        "\n",
        "\n",
        "\n",
        "\n",
        "\n",
        "\n",
        "#print(\"Accuracy of CV 10 folds\", accuracy_score(modelNameCV) )\n",
        "#print('Accuracy', modelNamepredCV.mean())\n",
        "#modelNamepredCV.mean()\n",
        "\n",
        "\n",
        "#"
      ],
      "metadata": {
        "id": "gZbTL6UqaM6e"
      },
      "execution_count": null,
      "outputs": []
    },
    {
      "cell_type": "code",
      "source": [
        "#4.2 Cross-validation (during training, before even testing)\n",
        "#To determine ideal CV K folds within reasonable limits (typical is 5 to 10)\n",
        "CVidealK = [5, 7, 10, 15]\n",
        "CVresults = {}\n",
        "for i in CVidealK:\n",
        "  modelNameCV = cross_val_score(modelName, X_train, y_train, cv=i) #NOT cv=CVidealK[i] since out of bounds\n",
        "  CVresults[i] = modelNameCV.mean()\n",
        "  maxCVAccuracy = max(CVresults.values())\n",
        "print(CVresults)\n",
        "print(\"maxCVAccuracy\", maxCVAccuracy)"
      ],
      "metadata": {
        "colab": {
          "base_uri": "https://localhost:8080/",
          "height": 70
        },
        "id": "X-kJmmqkKusm",
        "outputId": "d4bc0a94-db6c-42e4-f327-978a9bab51ab"
      },
      "execution_count": null,
      "outputs": [
        {
          "output_type": "stream",
          "name": "stdout",
          "text": [
            "{5: 0.7013880040295135, 7: 0.7013879750324542, 10: 0.701387976913003, 15: 0.7013885140200927}\n",
            "maxCVAccuracy 0.7013885140200927\n"
          ]
        },
        {
          "output_type": "execute_result",
          "data": {
            "text/plain": [
              "\"\\nmodelName = LogisticRegression(multi_class='ovr')\\nmodelName.fit(X_train, y_train)\\n\""
            ],
            "application/vnd.google.colaboratory.intrinsic+json": {
              "type": "string"
            }
          },
          "metadata": {},
          "execution_count": 17
        }
      ]
    },
    {
      "cell_type": "code",
      "source": [
        "#4.2 Now predict using our model:\n",
        "modelName_pred = modelName.predict(X_test)\n",
        "print(\"Accuracy\", accuracy_score(y_test, modelName_pred))"
      ],
      "metadata": {
        "id": "ft74rFEUD6WR",
        "colab": {
          "base_uri": "https://localhost:8080/"
        },
        "outputId": "d88479e0-f2bd-4d4a-99e2-2e636df68a67"
      },
      "execution_count": null,
      "outputs": [
        {
          "output_type": "stream",
          "name": "stdout",
          "text": [
            "Accuracy 0.7025060630557801\n"
          ]
        }
      ]
    },
    {
      "cell_type": "markdown",
      "source": [
        "## BELOW: more detailed version with rough work. Kept the polished portions above for presentation screenshotting."
      ],
      "metadata": {
        "id": "O9Tbt-ARBfP8"
      }
    },
    {
      "cell_type": "code",
      "source": [
        "#Step 4: Create the Multi-class regression problem:\n",
        "\n",
        "#4.1 Need to normalize data, don't forget.\n",
        "'''\n",
        "modelName = Pipeline([\n",
        "    ('scale', StandardScaler()),\n",
        "    ('LogReg', LogisticRegression(multi_class='ovr')) #This is optional parameter. If you don't select iter size, function will use default.\n",
        "    ])\n",
        "'''\n",
        "modelName = Pipeline([\n",
        "    ('scale', StandardScaler()),\n",
        "    ('LogReg', OneVsRestClassifier(LogisticRegression())) #This is optional parameter. If you don't select iter size, function will use default.\n",
        "    ])\n",
        "\n",
        "#Before cross-validation:\n",
        "modelName.fit(X_train, y_train)\n",
        "modelName_pred = modelName.predict(X_test)\n",
        "trainingAccuracyBeforeCV = accuracy_score(y_test, modelName_pred)\n",
        "print(\"Accuracy\", trainingAccuracyBeforeCV)\n",
        "trainingError = 1- trainingAccuracyBeforeCV\n",
        "print(\"Training errorBeforeCV\", trainingError)\n",
        "\n",
        "#This is nonsense. cv is used for the score, not as a model.\n",
        "#modelNamePred = modelName.predict(X_test)\n",
        "#print(\"Test accuracy using training model without cv\", accuracy_score(y_test, modelNamePred))"
      ],
      "metadata": {
        "id": "PXJEL8aeBhQF"
      },
      "execution_count": null,
      "outputs": []
    },
    {
      "cell_type": "code",
      "source": [
        "#4.2 Cross-validation (during training, before even testing)\n",
        "\n",
        "#To determine ideal CV K folds within reasonable limits (typical is 5 to 10)\n",
        "CVidealK = [5, 7, 10, 15]\n",
        "CVresults = {}\n",
        "for i in CVidealK:\n",
        "  modelNameCV = cross_val_score(modelName, X_train, y_train, cv=i) #NOT cv=CVidealK[i]\n",
        "  CVresults[i] = modelNameCV.mean()\n",
        "  maxCVAccuracy = max(CVresults.values())\n",
        "\n",
        "print(CVresults)\n",
        "print(\"maxCVAccuracy\", maxCVAccuracy)\n",
        "\n",
        "#Now use the ideal CV # of folds:\n",
        "modelNamepredCV = cross_val_score(modelName, X_train, y_train, cv=15)\n",
        "print(f\"Mean cross-validation score: {modelNamepredCV.mean()}\")\n",
        "\n",
        "\n",
        "\n",
        "\n",
        "\n",
        "\n",
        "#print(\"Accuracy of CV 10 folds\", accuracy_score(modelNameCV) )\n",
        "#print('Accuracy', modelNamepredCV.mean())\n",
        "#modelNamepredCV.mean()\n",
        "\n",
        "\n",
        "#"
      ],
      "metadata": {
        "id": "NFThJgP7KqkH"
      },
      "execution_count": null,
      "outputs": []
    },
    {
      "cell_type": "code",
      "source": [
        "\n",
        "#Cross-validation\n",
        "CVidealK = [5, 7, 10, 15]\n",
        "CVresults = {}\n",
        "for i in CVidealK:\n",
        "  modelNameCV = cross_val_score(modelName, X_train, y_train, cv=i) #NOT cv=CVidealK[i]\n",
        "  CVresults[i] = modelNameCV.mean()\n",
        "  maxCVAccuracy = max(CVresults.values())\n",
        "\n",
        "print(CVresults)\n",
        "print(\"maxCVAccuracy\", maxCVAccuracy)\n",
        "\n",
        "''' #ignore\n",
        "\n",
        "modelNameCV = cross_validation.cross_val_score(modelName, X_train, y_train, cv=10) #A\n",
        "#print(modelNameCV)\n",
        "#print(modelNameCV.mean())\n",
        "\n",
        "#\n",
        "'''\n",
        "\n",
        "\n",
        "'''\n",
        "modelName = LogisticRegression(multi_class='ovr')\n",
        "modelName.fit(X_train, y_train)\n",
        "'''"
      ],
      "metadata": {
        "id": "tH_UQb3lKlSH"
      },
      "execution_count": null,
      "outputs": []
    }
  ]
}